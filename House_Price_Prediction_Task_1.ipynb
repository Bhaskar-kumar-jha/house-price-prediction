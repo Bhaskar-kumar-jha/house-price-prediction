{
  "nbformat": 4,
  "nbformat_minor": 0,
  "metadata": {
    "colab": {
      "provenance": [],
      "authorship_tag": "ABX9TyMp7mw+KWXcXjiBW5lzdQ9m",
      "include_colab_link": true
    },
    "kernelspec": {
      "name": "python3",
      "display_name": "Python 3"
    },
    "language_info": {
      "name": "python"
    }
  },
  "cells": [
    {
      "cell_type": "markdown",
      "metadata": {
        "id": "view-in-github",
        "colab_type": "text"
      },
      "source": [
        "<a href=\"https://colab.research.google.com/github/Bhaskar-kumar-jha/house-price-prediction/blob/main/House_Price_Prediction_Task_1.ipynb\" target=\"_parent\"><img src=\"https://colab.research.google.com/assets/colab-badge.svg\" alt=\"Open In Colab\"/></a>"
      ]
    },
    {
      "cell_type": "code",
      "source": [
        "# Step 1: Load important tools (called libraries)\n",
        "import pandas as pd       # For handling data\n",
        "import numpy as np        # For math\n",
        "from sklearn.linear_model import LinearRegression   # For machine learning\n",
        "from sklearn.model_selection import train_test_split  # For splitting data\n",
        "from sklearn.metrics import r2_score, mean_squared_error  # For checking model\n",
        "import matplotlib.pyplot as plt   # For drawing graphs"
      ],
      "metadata": {
        "id": "nWg1oCZ_6_w8"
      },
      "execution_count": 8,
      "outputs": []
    },
    {
      "cell_type": "code",
      "source": [
        "# Step 3: Create dataset with 15 rows now\n",
        "data = {\n",
        "    'square_feet': [1000, 1500, 2000, 1200, 1800, 1100, 1700, 1400, 2200, 1600, 1300, 1900, 2100, 2400, 1250],\n",
        "    'bedrooms':    [2,    3,    4,    2,    3,    2,    4,    3,    5,    3,    2,    4,    5,    5,    2],\n",
        "    'bathrooms':   [1,    2,    3,    2,    2,    1,    3,    2,    4,    2,    1,    3,    3,    4,    2],\n",
        "    'price':       [100000, 150000, 200000, 130000, 180000, 115000, 175000, 145000, 250000, 165000, 125000, 190000, 220000, 270000, 135000]\n",
        "}\n",
        "df = pd.DataFrame(data)\n"
      ],
      "metadata": {
        "id": "K6fCFNHB7WGh"
      },
      "execution_count": 9,
      "outputs": []
    },
    {
      "cell_type": "code",
      "source": [
        "# Step 4: Explore the dataset\n",
        "\n",
        "print(\"Basic info about the dataset:\\n\")\n",
        "print(df.info())\n",
        "\n",
        "print(\"\\nSummary statistics:\\n\")\n",
        "print(df.describe())\n",
        "\n",
        "print(\"\\nFirst few rows of data:\\n\")\n",
        "print(df.head())\n"
      ],
      "metadata": {
        "colab": {
          "base_uri": "https://localhost:8080/"
        },
        "id": "aKIe8s627xWo",
        "outputId": "d0a9fe1b-9b85-4588-c393-4d864936e7d1"
      },
      "execution_count": 10,
      "outputs": [
        {
          "output_type": "stream",
          "name": "stdout",
          "text": [
            "Basic info about the dataset:\n",
            "\n",
            "<class 'pandas.core.frame.DataFrame'>\n",
            "RangeIndex: 15 entries, 0 to 14\n",
            "Data columns (total 4 columns):\n",
            " #   Column       Non-Null Count  Dtype\n",
            "---  ------       --------------  -----\n",
            " 0   square_feet  15 non-null     int64\n",
            " 1   bedrooms     15 non-null     int64\n",
            " 2   bathrooms    15 non-null     int64\n",
            " 3   price        15 non-null     int64\n",
            "dtypes: int64(4)\n",
            "memory usage: 612.0 bytes\n",
            "None\n",
            "\n",
            "Summary statistics:\n",
            "\n",
            "       square_feet   bedrooms  bathrooms          price\n",
            "count       15.000  15.000000  15.000000      15.000000\n",
            "mean      1630.000   3.266667   2.333333  170000.000000\n",
            "std        428.369   1.162919   0.975900   49389.125466\n",
            "min       1000.000   2.000000   1.000000  100000.000000\n",
            "25%       1275.000   2.000000   2.000000  132500.000000\n",
            "50%       1600.000   3.000000   2.000000  165000.000000\n",
            "75%       1950.000   4.000000   3.000000  195000.000000\n",
            "max       2400.000   5.000000   4.000000  270000.000000\n",
            "\n",
            "First few rows of data:\n",
            "\n",
            "   square_feet  bedrooms  bathrooms   price\n",
            "0         1000         2          1  100000\n",
            "1         1500         3          2  150000\n",
            "2         2000         4          3  200000\n",
            "3         1200         2          2  130000\n",
            "4         1800         3          2  180000\n"
          ]
        }
      ]
    },
    {
      "cell_type": "code",
      "source": [
        "# Step 5: Train a Linear Regression model\n",
        "\n",
        "# Step 5.1: Define inputs (X) and output (y)\n",
        "X = df[['square_feet', 'bedrooms', 'bathrooms']]\n",
        "y = df['price']\n",
        "\n",
        "# Step 5.2: Split data into training and testing sets\n",
        "X_train, X_test, y_train, y_test = train_test_split(X, y, test_size=0.2, random_state=42)\n",
        "\n",
        "# Step 5.3: Create and train the model\n",
        "model = LinearRegression()\n",
        "model.fit(X_train, y_train)\n",
        "\n",
        "# Step 5.4: Make predictions\n",
        "predictions = model.predict(X_test)\n",
        "\n",
        "# Step 5.5: Check how good the model is\n",
        "print(\"R² Score:\", r2_score(y_test, predictions))\n",
        "print(\"Mean Squared Error:\", mean_squared_error(y_test, predictions))\n"
      ],
      "metadata": {
        "colab": {
          "base_uri": "https://localhost:8080/"
        },
        "id": "gm1lzQdD77in",
        "outputId": "2ad82637-624c-442b-bc4b-329c11b2121b"
      },
      "execution_count": 11,
      "outputs": [
        {
          "output_type": "stream",
          "name": "stdout",
          "text": [
            "R² Score: 0.9550725039752533\n",
            "Mean Squared Error: 64645674.83560767\n"
          ]
        }
      ]
    },
    {
      "cell_type": "code",
      "source": [
        "new_house = pd.DataFrame({\n",
        "    'square_feet': [1600],\n",
        "    'bedrooms': [3],\n",
        "    'bathrooms': [2]\n",
        "})\n",
        "predicted_price = model.predict(new_house)\n",
        "print(f\"Predicted Price: ₹{predicted_price[0]:,.2f}\")\n"
      ],
      "metadata": {
        "colab": {
          "base_uri": "https://localhost:8080/"
        },
        "id": "lT-8-_Wd8V2y",
        "outputId": "61541a3e-4347-4241-ddf9-ab5da5500974"
      },
      "execution_count": 13,
      "outputs": [
        {
          "output_type": "stream",
          "name": "stdout",
          "text": [
            "Predicted Price: ₹163,719.39\n"
          ]
        }
      ]
    }
  ]
}